{
  "nbformat": 4,
  "nbformat_minor": 0,
  "metadata": {
    "colab": {
      "name": "skindetect.ipynb",
      "version": "0.3.2",
      "provenance": [],
      "collapsed_sections": [],
      "include_colab_link": true
    },
    "kernelspec": {
      "name": "python3",
      "display_name": "Python 3"
    },
    "accelerator": "GPU"
  },
  "cells": [
    {
      "cell_type": "markdown",
      "metadata": {
        "id": "view-in-github",
        "colab_type": "text"
      },
      "source": [
        "<a href=\"https://colab.research.google.com/github/Mushrifah/Skin-Disorder/blob/master/skindetect.ipynb\" target=\"_parent\"><img src=\"https://colab.research.google.com/assets/colab-badge.svg\" alt=\"Open In Colab\"/></a>"
      ]
    },
    {
      "cell_type": "code",
      "metadata": {
        "id": "Bg7R2Z0M7NJ4",
        "colab_type": "code",
        "colab": {}
      },
      "source": [
        "import cv2\n",
        "import numpy as np\n",
        "from matplotlib import pyplot as plt\n",
        "#Open a simple image\n",
        "\n",
        "def get_hist(image_path):\n",
        "    img=cv2.imread(image_path)\n",
        "    img = cv2.resize(img, (256,256))\n",
        "\n",
        "    #converting from gbr to hsv color space\n",
        "    img_HSV = cv2.cvtColor(img, cv2.COLOR_BGR2HSV)\n",
        "    #skin color range for hsv color space \n",
        "    HSV_mask = cv2.inRange(img_HSV, (0, 15, 0), (17,170,255)) \n",
        "    HSV_mask = cv2.morphologyEx(HSV_mask, cv2.MORPH_OPEN, np.ones((3,3), np.uint8))\n",
        "\n",
        "    #converting from gbr to YCbCr color space\n",
        "    img_YCrCb = cv2.cvtColor(img, cv2.COLOR_BGR2YCrCb)\n",
        "    #skin color range for hsv color space \n",
        "    YCrCb_mask = cv2.inRange(img_YCrCb, (0, 135, 85), (255,180,135)) \n",
        "    YCrCb_mask = cv2.morphologyEx(YCrCb_mask, cv2.MORPH_OPEN, np.ones((3,3), np.uint8))\n",
        "\n",
        "    #merge skin detection (YCbCr and hsv)\n",
        "    global_mask=cv2.bitwise_and(YCrCb_mask,HSV_mask)\n",
        "    global_mask=cv2.medianBlur(global_mask,3)\n",
        "    global_mask = cv2.morphologyEx(global_mask, cv2.MORPH_OPEN, np.ones((4,4), np.uint8))\n",
        "\n",
        "\n",
        "    HSV_result = cv2.bitwise_not(HSV_mask)\n",
        "    YCrCb_result = cv2.bitwise_not(YCrCb_mask)\n",
        "    global_result=cv2.bitwise_not(global_mask)\n",
        "    # final = cv2.bitwise_and(img, global_result)\n",
        "\n",
        "    #show results\n",
        "    # cv2.imshow(\"1_HSV.jpg\",HSV_result)\n",
        "    # cv2.imshow(\"2_YCbCr.jpg\",YCrCb_result)\n",
        "    # cv2.imshow(\"3_global_result.jpg\",global_result)\n",
        "    # cv2.imshow(\"Final_Image\",final)\n",
        "    # cv2.imwrite(\"1_HSV.jpg\",HSV_result)\n",
        "    # cv2.imwrite(\"2_YCbCr.jpg\",YCrCb_result)\n",
        "    cv2.imwrite(\"temp.jpg\",global_result)\n",
        "    # cv2.waitKey(0)\n",
        "    # cv2.destroyAllWindows()  \n",
        "\n",
        "    # img2 = cv2.imread('temp.jpg')\n",
        "    # final = cv2.bitwise_and(img2, img)\n",
        "    # cv2.imwrite('final_temp.jpg', final)\n",
        "    # final = cv2.cvtColor(final, cv2.COLOR_BGR2GRAY)\n",
        "    hist = cv2.calcHist([global_result],[0],None,[256],[0,256])\n",
        "    # print(hist[0], hist[255])\n",
        "    # plt.hist(global_result.ravel(),256,[0,256])\n",
        "    # plt.title('Histogram for gray scale picture')\n",
        "    # plt.show()\n",
        "    return hist\n",
        "\n",
        "def check_skin(image_name):\n",
        "    hist = get_hist(image_name)\n",
        "    a = hist[0]\n",
        "    b = hist[255]\n",
        "    percent = ((a / (a + b)) * 100.0).round(2)\n",
        "\n",
        "    if percent > 5.00:\n",
        "        return True\n",
        "    else:\n",
        "        return False\n",
        "    \n",
        "get_hist(\"c2.jpeg\")"
      ],
      "execution_count": 0,
      "outputs": []
    },
    {
      "cell_type": "code",
      "metadata": {
        "id": "31mhjy5SSYKr",
        "colab_type": "code",
        "outputId": "b42a84c3-75ac-4f77-bfef-04ac649a2e85",
        "colab": {
          "base_uri": "https://localhost:8080/",
          "height": 34
        }
      },
      "source": [
        "check_skin(\"c2.jpeg\")"
      ],
      "execution_count": 0,
      "outputs": [
        {
          "output_type": "execute_result",
          "data": {
            "text/plain": [
              "False"
            ]
          },
          "metadata": {
            "tags": []
          },
          "execution_count": 20
        }
      ]
    },
    {
      "cell_type": "code",
      "metadata": {
        "id": "9ML8qSE7Smfz",
        "colab_type": "code",
        "colab": {}
      },
      "source": [
        ""
      ],
      "execution_count": 0,
      "outputs": []
    }
  ]
}